{
  "cells": [
    {
      "cell_type": "markdown",
      "metadata": {
        "id": "view-in-github",
        "colab_type": "text"
      },
      "source": [
        "<a href=\"https://colab.research.google.com/github/AmanYadav214/blender-google-colab/blob/main/Blender2.ipynb\" target=\"_parent\"><img src=\"https://colab.research.google.com/assets/colab-badge.svg\" alt=\"Open In Colab\"/></a>"
      ]
    },
    {
      "cell_type": "markdown",
      "metadata": {
        "id": "g28ZGxQ4X83H"
      },
      "source": [
        "**Download** **blender** **from** **repository**"
      ]
    },
    {
      "cell_type": "code",
      "execution_count": null,
      "metadata": {
        "id": "klhBQBMTPljO"
      },
      "outputs": [],
      "source": [
        "!wget https://download.blender.org/release/Blender3.3/blender-3.3.0-linux-x64.tar.xz"
      ]
    },
    {
      "cell_type": "markdown",
      "metadata": {
        "id": "uP-u-SdXYZ_S"
      },
      "source": [
        "**Install** **blender**"
      ]
    },
    {
      "cell_type": "code",
      "execution_count": null,
      "metadata": {
        "id": "fYiyBY4wQCnG"
      },
      "outputs": [],
      "source": [
        "!tar xf blender-3.3.0-linux-x64.tar.xz"
      ]
    },
    {
      "cell_type": "code",
      "execution_count": null,
      "metadata": {
        "id": "8r-Mc1a04hea"
      },
      "outputs": [],
      "source": [
        "import os\n",
        "\n",
        "os.environ[\"LD_PRELOAD\"] = \"\"\n",
        "\n",
        "#Deletes wrong Version of libtcmalloc-minimal4\n",
        "!apt remove libtcmalloc-minimal4\n",
        "#Installs correct version of libtcmalloc-minimal4\n",
        "!apt install libtcmalloc-minimal4\n",
        "\n",
        "#Adds this library to the user environment\n",
        "os.environ[\"LD_PRELOAD\"] = \"/usr/lib/x86_64-linux-gnu/libtcmalloc_minimal.so.4.3.0\""
      ]
    },
    {
      "cell_type": "code",
      "execution_count": null,
      "metadata": {
        "id": "GhZEdcq48jl_"
      },
      "outputs": [],
      "source": [
        "from google.colab import drive\n",
        "drive.mount('/gdrive')"
      ]
    },
    {
      "cell_type": "markdown",
      "metadata": {
        "id": "7psee6ytgS7f"
      },
      "source": [
        "**Use** **google** **drive**"
      ]
    },
    {
      "cell_type": "code",
      "execution_count": null,
      "metadata": {
        "id": "4-yKE2FhgHcX"
      },
      "outputs": [],
      "source": [
        "from google.colab import drive\n",
        "drive.mount('/content/drive')"
      ]
    },
    {
      "cell_type": "markdown",
      "metadata": {
        "id": "0f7-L9o3gn6H"
      },
      "source": [
        "**Run** **blender**(only image)"
      ]
    },
    {
      "cell_type": "code",
      "execution_count": null,
      "metadata": {
        "id": "eBukSSwDpgV7"
      },
      "outputs": [],
      "source": [
        "! /content/blender-3.3.0-linux-x64/blender -P '/content/drive/MyDrive/blender render/3gpu.py' -b '/content/drive/MyDrive/blender render/cube for blender renderi ng colab.blend' -o '/content/drive/MyDrive/blender render/cube for blender renderi ng colab.blend' -E 'CYCLES' -f 1 -- --cycles-device CUDA"
      ]
    },
    {
      "cell_type": "markdown",
      "source": [
        "**Run** **blender**(only for animation)"
      ],
      "metadata": {
        "id": "vAOr69UTU8hy"
      }
    },
    {
      "cell_type": "code",
      "execution_count": null,
      "metadata": {
        "colab": {
          "background_save": true
        },
        "id": "ecUAbfXx1GR1"
      },
      "outputs": [],
      "source": [
        "! /content/blender-3.3.0-linux-x64/blender -P '/content/drive/MyDrive/blender render/3gpu.py' -b '/content/drive/MyDrive/blender render/cube for blender renderi ng colab.blend' -o '/content/drive/MyDrive/blender render/cube for blender renderi ng colab.blend' -E 'CYCLES' -s 1 -e 5 -a -- --cycles-device CUDA"
      ]
    },
    {
      "cell_type": "markdown",
      "source": [
        "**Check** **gpu**"
      ],
      "metadata": {
        "id": "5s6rpOUuUp6O"
      }
    },
    {
      "cell_type": "code",
      "execution_count": null,
      "metadata": {
        "id": "0W4LlQB5vrGl"
      },
      "outputs": [],
      "source": [
        "!nvidia-smi"
      ]
    }
  ],
  "metadata": {
    "accelerator": "GPU",
    "colab": {
      "provenance": [],
      "mount_file_id": "1NH21-Y7jo5YdKH7mskpAlwtd6_bzxoNx",
      "authorship_tag": "ABX9TyPdV1Wz9f9fRHRhAm5jcbLI",
      "include_colab_link": true
    },
    "gpuClass": "standard",
    "kernelspec": {
      "display_name": "Python 3",
      "name": "python3"
    },
    "language_info": {
      "name": "python"
    }
  },
  "nbformat": 4,
  "nbformat_minor": 0
}